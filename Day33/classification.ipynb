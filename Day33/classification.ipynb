{
 "cells": [
  {
   "cell_type": "code",
   "execution_count": 6,
   "id": "9dd73fbb",
   "metadata": {},
   "outputs": [],
   "source": [
    "import pandas as pd\n",
    "import numpy as np\n",
    "from sklearn.preprocessing import LabelEncoder, StandardScaler\n",
    "from sklearn.model_selection import train_test_split, cross_val_score, KFold\n",
    "from sklearn.tree import DecisionTreeClassifier, DecisionTreeRegressor\n",
    "from sklearn.ensemble import RandomForestClassifier\n"
   ]
  },
  {
   "cell_type": "code",
   "execution_count": 7,
   "id": "a52e722e",
   "metadata": {},
   "outputs": [],
   "source": [
    "data=pd.read_csv('data.csv')"
   ]
  },
  {
   "cell_type": "code",
   "execution_count": 8,
   "id": "9d18b12c",
   "metadata": {},
   "outputs": [
    {
     "name": "stdout",
     "output_type": "stream",
     "text": [
      "Classifier: LogisticRegression\n",
      "Confusion Matrix:\n",
      "[[10  0  0]\n",
      " [ 0  6  3]\n",
      " [ 0  0 11]]\n",
      "Accuracy: 0.9\n",
      "Precision: 0.9214285714285714\n",
      "Recall: 0.9\n",
      "F1 Score: 0.896\n",
      "\n",
      "Classifier: DecisionTreeClassifier\n",
      "Confusion Matrix:\n",
      "[[10  0  0]\n",
      " [ 0  6  3]\n",
      " [ 0  0 11]]\n",
      "Accuracy: 0.9\n",
      "Precision: 0.9214285714285714\n",
      "Recall: 0.9\n",
      "F1 Score: 0.896\n",
      "\n",
      "Classifier: RandomForestClassifier\n",
      "Confusion Matrix:\n",
      "[[10  0  0]\n",
      " [ 0  6  3]\n",
      " [ 0  0 11]]\n",
      "Accuracy: 0.9\n",
      "Precision: 0.9214285714285714\n",
      "Recall: 0.9\n",
      "F1 Score: 0.896\n",
      "\n"
     ]
    },
    {
     "name": "stderr",
     "output_type": "stream",
     "text": [
      "C:\\ProgramData\\anaconda3\\Lib\\site-packages\\sklearn\\linear_model\\_logistic.py:460: ConvergenceWarning: lbfgs failed to converge (status=1):\n",
      "STOP: TOTAL NO. of ITERATIONS REACHED LIMIT.\n",
      "\n",
      "Increase the number of iterations (max_iter) or scale the data as shown in:\n",
      "    https://scikit-learn.org/stable/modules/preprocessing.html\n",
      "Please also refer to the documentation for alternative solver options:\n",
      "    https://scikit-learn.org/stable/modules/linear_model.html#logistic-regression\n",
      "  n_iter_i = _check_optimize_result(\n"
     ]
    }
   ],
   "source": [
    "X = data.drop('target', axis=1)\n",
    "y = data['target']\n",
    "\n",
    "X_train, X_test, y_train, y_test = train_test_split(X, y, test_size=0.2, random_state=42)\n",
    "\n",
    "classifiers = [LogisticRegression(), DecisionTreeClassifier(), RandomForestClassifier()]\n",
    "for clf in classifiers:\n",
    "     clf.fit(X_train, y_train)\n",
    "     y_pred = clf.predict(X_test)\n",
    "     print(f\"Classifier: {clf.__class__.__name__}\")\n",
    "     print(\"Confusion Matrix:\")\n",
    "     print(confusion_matrix(y_test, y_pred))\n",
    "     print(\"Accuracy:\", accuracy_score(y_test, y_pred))\n",
    "     print(\"Precision:\", precision_score(y_test, y_pred, average='weighted'))\n",
    "     print(\"Recall:\", recall_score(y_test, y_pred, average='weighted'))\n",
    "     print(\"F1 Score:\", f1_score(y_test, y_pred, average='weighted'))\n",
    "     print()"
   ]
  },
  {
   "cell_type": "code",
   "execution_count": null,
   "id": "8a7d8708",
   "metadata": {},
   "outputs": [],
   "source": []
  }
 ],
 "metadata": {
  "kernelspec": {
   "display_name": "Python 3 (ipykernel)",
   "language": "python",
   "name": "python3"
  },
  "language_info": {
   "codemirror_mode": {
    "name": "ipython",
    "version": 3
   },
   "file_extension": ".py",
   "mimetype": "text/x-python",
   "name": "python",
   "nbconvert_exporter": "python",
   "pygments_lexer": "ipython3",
   "version": "3.11.5"
  }
 },
 "nbformat": 4,
 "nbformat_minor": 5
}
