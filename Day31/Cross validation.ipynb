{
 "cells": [
  {
   "cell_type": "code",
   "execution_count": 25,
   "id": "649ab112",
   "metadata": {},
   "outputs": [
    {
     "name": "stdout",
     "output_type": "stream",
     "text": [
      "Average Mean Absolute Error:  4.074536263942718e-11\n"
     ]
    }
   ],
   "source": [
    "import pandas as pd\n",
    "import numpy as np\n",
    "from sklearn.model_selection import KFold\n",
    "from sklearn.linear_model import LinearRegression\n",
    "from sklearn.metrics import mean_absolute_error\n",
    "\n",
    "#load our data\n",
    "df = pd.read_csv('house.csv')\n",
    "\n",
    "#split the dataset into feature and target as (x) and (y) axis\n",
    "\n",
    "x = df[['size', 'bedrooms']].values\n",
    "y = df['price'].values\n",
    "\n",
    "#initiate or define our model\n",
    "model = LinearRegression()\n",
    "\n",
    "#define our crossvalidation method which is KFold\n",
    "kf = KFold(n_splits=5)\n",
    "\n",
    "mean_scores = []\n",
    "\n",
    "for train_index, test_index in kf.split(x):\n",
    "    x_train, x_test = x[train_index], x[test_index]\n",
    "    y_train, y_test = y[train_index], y[test_index]\n",
    "    \n",
    "    #training the model with set which we gets after looping\n",
    "    model.fit(x_train, y_train)\n",
    "    \n",
    "    #predict the test set\n",
    "    y_pred = model.predict(x_test)\n",
    "    mean = mean_absolute_error(y_test, y_pred)\n",
    "    mean_scores.append(mean)\n",
    "average_mean = np.mean(mean_scores)\n",
    "print(\"Average Mean Absolute Error: \", average_mean)"
   ]
  },
  {
   "cell_type": "code",
   "execution_count": null,
   "id": "7ad38524",
   "metadata": {},
   "outputs": [],
   "source": []
  }
 ],
 "metadata": {
  "kernelspec": {
   "display_name": "Python 3 (ipykernel)",
   "language": "python",
   "name": "python3"
  },
  "language_info": {
   "codemirror_mode": {
    "name": "ipython",
    "version": 3
   },
   "file_extension": ".py",
   "mimetype": "text/x-python",
   "name": "python",
   "nbconvert_exporter": "python",
   "pygments_lexer": "ipython3",
   "version": "3.11.5"
  }
 },
 "nbformat": 4,
 "nbformat_minor": 5
}
