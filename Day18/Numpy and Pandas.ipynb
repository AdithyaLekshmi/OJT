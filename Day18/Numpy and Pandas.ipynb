{
 "cells": [
  {
   "cell_type": "code",
   "execution_count": null,
   "id": "9428fbbe",
   "metadata": {},
   "outputs": [],
   "source": [
    "****How do you create a NumPy array****"
   ]
  },
  {
   "cell_type": "code",
   "execution_count": 1,
   "id": "eede6432",
   "metadata": {},
   "outputs": [
    {
     "name": "stdout",
     "output_type": "stream",
     "text": [
      "[1 2 3 4 5]\n"
     ]
    }
   ],
   "source": [
    "import numpy as np\n",
    "arr = np.array([1, 2, 3, 4, 5])\n",
    "print(arr)"
   ]
  },
  {
   "cell_type": "code",
   "execution_count": null,
   "id": "841078a0",
   "metadata": {},
   "outputs": [],
   "source": [
    "****How do you create an array filled with zeros****"
   ]
  },
  {
   "cell_type": "code",
   "execution_count": 2,
   "id": "c710d2c4",
   "metadata": {},
   "outputs": [
    {
     "name": "stdout",
     "output_type": "stream",
     "text": [
      "[[0. 0. 0.]\n",
      " [0. 0. 0.]\n",
      " [0. 0. 0.]]\n"
     ]
    }
   ],
   "source": [
    "zeros_array = np.zeros((3, 3))\n",
    "print(zeros_array)"
   ]
  },
  {
   "cell_type": "code",
   "execution_count": null,
   "id": "780cacff",
   "metadata": {},
   "outputs": [],
   "source": [
    "****How do you create an array with a range of numbers****"
   ]
  },
  {
   "cell_type": "code",
   "execution_count": 3,
   "id": "b6089cff",
   "metadata": {},
   "outputs": [
    {
     "name": "stdout",
     "output_type": "stream",
     "text": [
      "[0 2 4 6 8]\n"
     ]
    }
   ],
   "source": [
    "range_array = np.arange(0, 10, 2) \n",
    "print(range_array)\n"
   ]
  },
  {
   "cell_type": "code",
   "execution_count": null,
   "id": "cc54fcd8",
   "metadata": {},
   "outputs": [],
   "source": [
    "****How do you create an array of evenly spaced values****"
   ]
  },
  {
   "cell_type": "code",
   "execution_count": 5,
   "id": "15d13289",
   "metadata": {},
   "outputs": [
    {
     "name": "stdout",
     "output_type": "stream",
     "text": [
      "[0.   0.25 0.5  0.75 1.  ]\n"
     ]
    }
   ],
   "source": [
    "linspace_array = np.linspace(0, 1, 5)\n",
    "print(linspace_array)\n"
   ]
  },
  {
   "cell_type": "code",
   "execution_count": null,
   "id": "576cf242",
   "metadata": {},
   "outputs": [],
   "source": [
    "****How do you create an identity matrix****"
   ]
  },
  {
   "cell_type": "code",
   "execution_count": 6,
   "id": "92fe0f33",
   "metadata": {},
   "outputs": [
    {
     "name": "stdout",
     "output_type": "stream",
     "text": [
      "[[1. 0. 0.]\n",
      " [0. 1. 0.]\n",
      " [0. 0. 1.]]\n"
     ]
    }
   ],
   "source": [
    "identity_matrix = np.eye(3) \n",
    "print(identity_matrix)\n"
   ]
  },
  {
   "cell_type": "code",
   "execution_count": null,
   "id": "80842ea3",
   "metadata": {},
   "outputs": [],
   "source": [
    "****How do you reshape an array****"
   ]
  },
  {
   "cell_type": "code",
   "execution_count": 7,
   "id": "6ed54225",
   "metadata": {},
   "outputs": [
    {
     "name": "stdout",
     "output_type": "stream",
     "text": [
      "[[1 2 3]\n",
      " [4 5 6]]\n"
     ]
    }
   ],
   "source": [
    "arr = np.array([1, 2, 3, 4, 5, 6])\n",
    "reshaped_arr = arr.reshape((2, 3))\n",
    "print(reshaped_arr)"
   ]
  },
  {
   "cell_type": "code",
   "execution_count": null,
   "id": "68afd616",
   "metadata": {},
   "outputs": [],
   "source": [
    "****How do you get the shape of an array****"
   ]
  },
  {
   "cell_type": "code",
   "execution_count": 8,
   "id": "c85fcc73",
   "metadata": {},
   "outputs": [
    {
     "name": "stdout",
     "output_type": "stream",
     "text": [
      "(6,)\n"
     ]
    }
   ],
   "source": [
    "shape = arr.shape\n",
    "print(shape)\n"
   ]
  },
  {
   "cell_type": "code",
   "execution_count": null,
   "id": "e8cb87a9",
   "metadata": {},
   "outputs": [],
   "source": [
    "****How do you perform element-wise addition on two arrays****"
   ]
  },
  {
   "cell_type": "code",
   "execution_count": 9,
   "id": "dad80374",
   "metadata": {},
   "outputs": [
    {
     "name": "stdout",
     "output_type": "stream",
     "text": [
      "[5 7 9]\n"
     ]
    }
   ],
   "source": [
    "arr1 = np.array([1, 2, 3])\n",
    "arr2 = np.array([4, 5, 6])\n",
    "result = arr1 + arr2\n",
    "print(result)"
   ]
  },
  {
   "cell_type": "code",
   "execution_count": null,
   "id": "2f5cb7c3",
   "metadata": {},
   "outputs": [],
   "source": [
    "****How do you find the maximum value in an array****"
   ]
  },
  {
   "cell_type": "code",
   "execution_count": 10,
   "id": "7de7498b",
   "metadata": {},
   "outputs": [
    {
     "name": "stdout",
     "output_type": "stream",
     "text": [
      "6\n"
     ]
    }
   ],
   "source": [
    "max_value = arr.max()\n",
    "print(max_value)"
   ]
  },
  {
   "cell_type": "code",
   "execution_count": null,
   "id": "527b3596",
   "metadata": {},
   "outputs": [],
   "source": [
    "****How do you compute the mean of an array****"
   ]
  },
  {
   "cell_type": "code",
   "execution_count": 11,
   "id": "a1660584",
   "metadata": {},
   "outputs": [
    {
     "name": "stdout",
     "output_type": "stream",
     "text": [
      "3.5\n"
     ]
    }
   ],
   "source": [
    "mean_value = arr.mean()\n",
    "print(mean_value)"
   ]
  },
  {
   "cell_type": "code",
   "execution_count": null,
   "id": "03cb27b5",
   "metadata": {},
   "outputs": [],
   "source": [
    "****How do you generate random numbers in NumPy****"
   ]
  },
  {
   "cell_type": "code",
   "execution_count": 12,
   "id": "e2d76438",
   "metadata": {},
   "outputs": [
    {
     "name": "stdout",
     "output_type": "stream",
     "text": [
      "[0.70495745 0.7371563  0.68035982 0.97810582 0.26878602]\n"
     ]
    }
   ],
   "source": [
    "random_numbers = np.random.rand(5) \n",
    "print(random_numbers)\n"
   ]
  },
  {
   "cell_type": "code",
   "execution_count": null,
   "id": "f67fce42",
   "metadata": {},
   "outputs": [],
   "source": [
    "****How do you sort an array****"
   ]
  },
  {
   "cell_type": "code",
   "execution_count": 13,
   "id": "ae514422",
   "metadata": {},
   "outputs": [
    {
     "name": "stdout",
     "output_type": "stream",
     "text": [
      "[1 2 3 4 5 6]\n"
     ]
    }
   ],
   "source": [
    "sorted_arr = np.sort(arr)\n",
    "print(sorted_arr)"
   ]
  },
  {
   "cell_type": "code",
   "execution_count": null,
   "id": "b242cb95",
   "metadata": {},
   "outputs": [],
   "source": [
    "****How do you get the transpose of a matrix****"
   ]
  },
  {
   "cell_type": "code",
   "execution_count": 14,
   "id": "42106405",
   "metadata": {},
   "outputs": [
    {
     "name": "stdout",
     "output_type": "stream",
     "text": [
      "[[1 3]\n",
      " [2 4]]\n"
     ]
    }
   ],
   "source": [
    "matrix = np.array([[1, 2], [3, 4]])\n",
    "transposed_matrix = matrix.T\n",
    "print(transposed_matrix)"
   ]
  },
  {
   "cell_type": "code",
   "execution_count": null,
   "id": "1ad3fbfc",
   "metadata": {},
   "outputs": [],
   "source": [
    "****How do you flatten a multi-dimensional array****"
   ]
  },
  {
   "cell_type": "code",
   "execution_count": 15,
   "id": "103ea47e",
   "metadata": {},
   "outputs": [
    {
     "name": "stdout",
     "output_type": "stream",
     "text": [
      "[1 2 3 4 5 6]\n"
     ]
    }
   ],
   "source": [
    "flat_array = arr.flatten()\n",
    "print(flat_array)"
   ]
  },
  {
   "cell_type": "code",
   "execution_count": null,
   "id": "05e3ffa9",
   "metadata": {},
   "outputs": [],
   "source": [
    "****How do you find the index of the maximum value in an array****"
   ]
  },
  {
   "cell_type": "code",
   "execution_count": 16,
   "id": "6c3a1706",
   "metadata": {},
   "outputs": [
    {
     "name": "stdout",
     "output_type": "stream",
     "text": [
      "5\n"
     ]
    }
   ],
   "source": [
    "index_max = arr.argmax()\n",
    "print(index_max)"
   ]
  },
  {
   "cell_type": "code",
   "execution_count": null,
   "id": "78b7a8bb",
   "metadata": {},
   "outputs": [],
   "source": [
    "****Create a NumPy Array and Convert to pandas DataFrame****"
   ]
  },
  {
   "cell_type": "code",
   "execution_count": 1,
   "id": "7d66e322",
   "metadata": {},
   "outputs": [
    {
     "name": "stdout",
     "output_type": "stream",
     "text": [
      "   Numbers\n",
      "0        0\n",
      "1        1\n",
      "2        2\n",
      "3        3\n",
      "4        4\n",
      "5        5\n",
      "6        6\n",
      "7        7\n",
      "8        8\n",
      "9        9\n"
     ]
    }
   ],
   "source": [
    "import numpy as np\n",
    "import pandas as pd\n",
    "\n",
    "array = np.arange(10)\n",
    "df = pd.DataFrame(array, columns=['Numbers'])\n",
    "print(df)\n"
   ]
  },
  {
   "cell_type": "code",
   "execution_count": null,
   "id": "a66c5679",
   "metadata": {},
   "outputs": [],
   "source": [
    "**Create a DataFrame with columns 'A' and 'B' and calculate the mean of column 'A' using NumPy**"
   ]
  },
  {
   "cell_type": "code",
   "execution_count": 2,
   "id": "4a98d470",
   "metadata": {},
   "outputs": [
    {
     "name": "stdout",
     "output_type": "stream",
     "text": [
      "3.0\n"
     ]
    }
   ],
   "source": [
    "df = pd.DataFrame({'A': [1, 2, 3, 4, 5], 'B': [10, 20, 30, 40, 50]})\n",
    "mean_A = np.mean(df['A'])\n",
    "print(mean_A)\n"
   ]
  },
  {
   "cell_type": "code",
   "execution_count": null,
   "id": "ef09955c",
   "metadata": {},
   "outputs": [],
   "source": []
  }
 ],
 "metadata": {
  "kernelspec": {
   "display_name": "Python 3 (ipykernel)",
   "language": "python",
   "name": "python3"
  },
  "language_info": {
   "codemirror_mode": {
    "name": "ipython",
    "version": 3
   },
   "file_extension": ".py",
   "mimetype": "text/x-python",
   "name": "python",
   "nbconvert_exporter": "python",
   "pygments_lexer": "ipython3",
   "version": "3.11.5"
  }
 },
 "nbformat": 4,
 "nbformat_minor": 5
}
