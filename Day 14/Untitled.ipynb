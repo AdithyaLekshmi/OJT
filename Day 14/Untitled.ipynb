{
 "cells": [
  {
   "cell_type": "code",
   "execution_count": null,
   "id": "f983388a",
   "metadata": {},
   "outputs": [],
   "source": [
    "****Reshaping****"
   ]
  },
  {
   "cell_type": "code",
   "execution_count": null,
   "id": "25149e98",
   "metadata": {},
   "outputs": [],
   "source": [
    "*****reshape() is the method to convert 1D to 2D,2D to 3D..........*****"
   ]
  },
  {
   "cell_type": "code",
   "execution_count": 2,
   "id": "05aca6d6",
   "metadata": {},
   "outputs": [
    {
     "name": "stdout",
     "output_type": "stream",
     "text": [
      "[1 2 3 4 5 6]\n",
      "(6,)\n"
     ]
    }
   ],
   "source": [
    "import numpy as np\n",
    "#create 1D array\n",
    "array_1=np.array([1,2,3,4,5,6])\n",
    "print(array_1)\n",
    "print(array_1.shape)\n"
   ]
  },
  {
   "cell_type": "code",
   "execution_count": 6,
   "id": "f56c882b",
   "metadata": {},
   "outputs": [
    {
     "name": "stdout",
     "output_type": "stream",
     "text": [
      "[[1 2 3]\n",
      " [4 5 6]]\n",
      "(2, 3)\n"
     ]
    }
   ],
   "source": [
    "#convert to 2D(reshape the array(means 1D to 2D))\n",
    "array_2d=array_1.reshape((2,3))\n",
    "print(array_2d)\n",
    "print(array_2d.shape)"
   ]
  },
  {
   "cell_type": "code",
   "execution_count": 8,
   "id": "8261a556",
   "metadata": {},
   "outputs": [
    {
     "name": "stdout",
     "output_type": "stream",
     "text": [
      "[1 2 3 4 5 6 7 8 9]\n",
      "(9,)\n",
      "[[1 2 3]\n",
      " [4 5 6]\n",
      " [7 8 9]]\n",
      "(3, 3)\n"
     ]
    }
   ],
   "source": [
    "import numpy as np\n",
    "#create 1D array\n",
    "array_1=np.array([1,2,3,4,5,6,7,8,9])\n",
    "print(array_1)\n",
    "print(array_1.shape)\n",
    "#convert to 3D array\n",
    "array_3d=array_1.reshape((3,3))\n",
    "print(array_3d)\n",
    "print(array_3d.shape)"
   ]
  },
  {
   "cell_type": "code",
   "execution_count": null,
   "id": "1601affc",
   "metadata": {},
   "outputs": [],
   "source": [
    "convert 2d array back to 1d array"
   ]
  },
  {
   "cell_type": "code",
   "execution_count": 19,
   "id": "640f62f0",
   "metadata": {},
   "outputs": [
    {
     "name": "stdout",
     "output_type": "stream",
     "text": [
      "[[1 2 3 4 5 6]]\n",
      "(1, 6)\n"
     ]
    }
   ],
   "source": [
    "d1_back=array_2d.reshape(1,6)\n",
    "print(d1_back)\n",
    "print(d1_back.shape)"
   ]
  },
  {
   "cell_type": "code",
   "execution_count": 20,
   "id": "8dd29345",
   "metadata": {},
   "outputs": [
    {
     "name": "stdout",
     "output_type": "stream",
     "text": [
      "[1 2 3 4 5 6]\n",
      "(6,)\n"
     ]
    }
   ],
   "source": [
    "d1_back=array_2d.reshape(-1)\n",
    "print(d1_back)\n",
    "print(d1_back.shape)"
   ]
  },
  {
   "cell_type": "code",
   "execution_count": null,
   "id": "d521778d",
   "metadata": {},
   "outputs": [],
   "source": [
    "******iteration******"
   ]
  },
  {
   "cell_type": "code",
   "execution_count": null,
   "id": "03eb5e05",
   "metadata": {},
   "outputs": [],
   "source": [
    "*******how we can do iterations*****"
   ]
  },
  {
   "cell_type": "code",
   "execution_count": 22,
   "id": "3a498177",
   "metadata": {},
   "outputs": [
    {
     "name": "stdout",
     "output_type": "stream",
     "text": [
      "[ 1  2  3  4  5  6  7  8  9 10]\n",
      "1\n",
      "2\n",
      "3\n",
      "4\n",
      "5\n",
      "6\n",
      "7\n",
      "8\n",
      "9\n",
      "10\n"
     ]
    }
   ],
   "source": [
    "array_1d=np.array([1,2,3,4,5,6,7,8,9,10])\n",
    "print(array_1d)\n",
    "for elements in array_1d:\n",
    "    print(elements)"
   ]
  },
  {
   "cell_type": "code",
   "execution_count": 26,
   "id": "e1a52cae",
   "metadata": {},
   "outputs": [
    {
     "name": "stdout",
     "output_type": "stream",
     "text": [
      "[[1 2 3]\n",
      " [4 5 6]\n",
      " [7 8 9]]\n",
      "[1 2 3]\n",
      "[4 5 6]\n",
      "[7 8 9]\n"
     ]
    }
   ],
   "source": [
    "array_2d=np.array([[1,2,3],[4,5,6],[7,8,9]])\n",
    "print(array_2d)\n",
    "for rows in array_2d:\n",
    "    print(rows)"
   ]
  },
  {
   "cell_type": "code",
   "execution_count": 29,
   "id": "079c0e3a",
   "metadata": {
    "scrolled": true
   },
   "outputs": [
    {
     "name": "stdout",
     "output_type": "stream",
     "text": [
      "[[1 2 3]\n",
      " [4 5 6]\n",
      " [7 8 9]]\n",
      "1\n",
      "2\n",
      "3\n",
      "4\n",
      "5\n",
      "6\n",
      "7\n",
      "8\n",
      "9\n"
     ]
    }
   ],
   "source": [
    "array_2d=np.array([[1,2,3],[4,5,6],[7,8,9]])\n",
    "print(array_2d)\n",
    "for elements in np.nditer(array_2d):\n",
    "    print(elements)"
   ]
  },
  {
   "cell_type": "code",
   "execution_count": 30,
   "id": "4de87399",
   "metadata": {},
   "outputs": [
    {
     "name": "stdout",
     "output_type": "stream",
     "text": [
      "(0, 0) 1\n",
      "(0, 1) 2\n",
      "(0, 2) 3\n",
      "(1, 0) 4\n",
      "(1, 1) 5\n",
      "(1, 2) 6\n",
      "(2, 0) 7\n",
      "(2, 1) 8\n",
      "(2, 2) 9\n"
     ]
    }
   ],
   "source": [
    "#iterate the elements with index\n",
    "for index,element in np.ndenumerate(array_2d):\n",
    "    print(index,element)"
   ]
  },
  {
   "cell_type": "code",
   "execution_count": 35,
   "id": "8cd2de74",
   "metadata": {},
   "outputs": [
    {
     "name": "stdout",
     "output_type": "stream",
     "text": [
      "[1 2 3 4 5 6]\n"
     ]
    }
   ],
   "source": [
    "#join of two array\n",
    "array1=np.array([1,2,3])\n",
    "array2=np.array([4,5,6])\n",
    "array=np.concatenate((array1,array2))\n",
    "print(array)"
   ]
  },
  {
   "cell_type": "code",
   "execution_count": 39,
   "id": "0fd37a3d",
   "metadata": {
    "scrolled": true
   },
   "outputs": [
    {
     "name": "stdout",
     "output_type": "stream",
     "text": [
      "[[ 1  2  3]\n",
      " [ 4  5  6]\n",
      " [ 7  8  9]\n",
      " [10 11 12]]\n"
     ]
    }
   ],
   "source": [
    "array2d1=np.array([[1,2,3],[4,5,6]])\n",
    "array2d2=np.array([[7,8,9],[10,11,12]])\n",
    "concate2d=np.concatenate((array2d1,array2d2))\n",
    "print(concate2d)"
   ]
  },
  {
   "cell_type": "code",
   "execution_count": 40,
   "id": "b194cdde",
   "metadata": {},
   "outputs": [
    {
     "name": "stdout",
     "output_type": "stream",
     "text": [
      "[[ 1  2  3]\n",
      " [ 4  5  6]\n",
      " [ 7  8  9]\n",
      " [10 11 12]]\n"
     ]
    }
   ],
   "source": [
    "#join vertically\n",
    "vstack_array=np.vstack((array2d1,array2d2))\n",
    "print(vstack_array)\n"
   ]
  },
  {
   "cell_type": "code",
   "execution_count": 41,
   "id": "cbc660d3",
   "metadata": {},
   "outputs": [
    {
     "name": "stdout",
     "output_type": "stream",
     "text": [
      "[[ 1  2  3  7  8  9]\n",
      " [ 4  5  6 10 11 12]]\n"
     ]
    }
   ],
   "source": [
    "#join horizontally\n",
    "hstack_array=np.hstack((array2d1,array2d2))\n",
    "print(hstack_array)"
   ]
  },
  {
   "cell_type": "code",
   "execution_count": null,
   "id": "4b5e7ffc",
   "metadata": {},
   "outputs": [],
   "source": [
    "****split will work in numpy****"
   ]
  },
  {
   "cell_type": "code",
   "execution_count": 42,
   "id": "f4fd8c59",
   "metadata": {},
   "outputs": [
    {
     "name": "stdout",
     "output_type": "stream",
     "text": [
      "[1 2 3 4 5 6 7 8 9]\n",
      "[array([1, 2, 3]), array([4, 5, 6]), array([7, 8, 9])]\n"
     ]
    }
   ],
   "source": [
    "array=np.array([1,2,3,4,5,6,7,8,9])\n",
    "split_array=np.split(array,3)\n",
    "print(array)\n",
    "print(split_array)"
   ]
  },
  {
   "cell_type": "code",
   "execution_count": null,
   "id": "17cbd5bb",
   "metadata": {},
   "outputs": [],
   "source": [
    "***splitting horizontaly and vertically multidimensional array***"
   ]
  },
  {
   "cell_type": "code",
   "execution_count": 50,
   "id": "6cb3de6b",
   "metadata": {},
   "outputs": [
    {
     "name": "stdout",
     "output_type": "stream",
     "text": [
      "[array([[1, 2, 3],\n",
      "       [4, 5, 6]]), array([[ 7,  8,  9],\n",
      "       [10, 11, 12]])]\n"
     ]
    }
   ],
   "source": [
    "array_2d=np.array([[1,2,3],[4,5,6],[7,8,9],[10,11,12]])\n",
    "vsplit_array=np.vsplit(array_2d,2)\n",
    "print(vsplit_array)"
   ]
  },
  {
   "cell_type": "code",
   "execution_count": 48,
   "id": "c788fe68",
   "metadata": {},
   "outputs": [
    {
     "name": "stdout",
     "output_type": "stream",
     "text": [
      "[20 17]\n"
     ]
    }
   ],
   "source": [
    "#check\n",
    "import numpy as np\n",
    "array=np.array([10,20,12,15,14,17])\n",
    "#element grater than 15 for the above array\n",
    "elements=np.where(array>15)\n",
    "print(array[elements])"
   ]
  },
  {
   "cell_type": "code",
   "execution_count": 52,
   "id": "665231bd",
   "metadata": {},
   "outputs": [
    {
     "name": "stdout",
     "output_type": "stream",
     "text": [
      "[10  0 12 15 14  0]\n"
     ]
    }
   ],
   "source": [
    "#check\n",
    "import numpy as np\n",
    "array=np.array([10,20,12,15,14,17])\n",
    "#element grater than 15 for the above array\n",
    "elements=np.where(array>15,0,array)\n",
    "print(elements)"
   ]
  },
  {
   "cell_type": "code",
   "execution_count": null,
   "id": "281ce562",
   "metadata": {},
   "outputs": [],
   "source": []
  }
 ],
 "metadata": {
  "kernelspec": {
   "display_name": "Python 3 (ipykernel)",
   "language": "python",
   "name": "python3"
  },
  "language_info": {
   "codemirror_mode": {
    "name": "ipython",
    "version": 3
   },
   "file_extension": ".py",
   "mimetype": "text/x-python",
   "name": "python",
   "nbconvert_exporter": "python",
   "pygments_lexer": "ipython3",
   "version": "3.11.5"
  }
 },
 "nbformat": 4,
 "nbformat_minor": 5
}
