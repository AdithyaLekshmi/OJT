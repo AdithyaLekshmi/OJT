{
 "cells": [
  {
   "cell_type": "code",
   "execution_count": 1,
   "id": "f51ad7f2",
   "metadata": {},
   "outputs": [
    {
     "name": "stdout",
     "output_type": "stream",
     "text": [
      "4\n"
     ]
    }
   ],
   "source": [
    "# INDEX \n",
    "# This method returns the index of the specified elements. It takes one argument. If the element specified is not present, it generates an error.\n",
    "l=[7,4,2,6,9,15]\n",
    "a=l.index(9)\n",
    "print(a)"
   ]
  },
  {
   "cell_type": "code",
   "execution_count": 2,
   "id": "6851162e",
   "metadata": {},
   "outputs": [
    {
     "name": "stdout",
     "output_type": "stream",
     "text": [
      "[2, 4, 6, 7, 8, 12]\n"
     ]
    }
   ],
   "source": [
    "# APPEND\n",
    "# This method is used for appending and adding elements to the List. It is used to add elements to the last position of List. It takes only one argument so it can append only one element at a time.\n",
    "l=[2,4,6,7,8]\n",
    "l.append(12)\n",
    "print(l)"
   ]
  },
  {
   "cell_type": "code",
   "execution_count": 3,
   "id": "0fea7b48",
   "metadata": {},
   "outputs": [
    {
     "name": "stdout",
     "output_type": "stream",
     "text": [
      "[3, 6, 2, 9, 7, 1]\n"
     ]
    }
   ],
   "source": [
    "# EXTEND\n",
    "# If we want to append several objects contained in a list, we use Extend(). This method adds multiple items but it should be in the form of a list.\n",
    "l1=[3,6,2]\n",
    "l2=[9,7,1]\n",
    "l1.extend(l2)\n",
    "print(l1)"
   ]
  },
  {
   "cell_type": "code",
   "execution_count": 4,
   "id": "ddb884de",
   "metadata": {},
   "outputs": [
    {
     "name": "stdout",
     "output_type": "stream",
     "text": [
      "[2, 4, 14, 6]\n"
     ]
    }
   ],
   "source": [
    "# INSERT \n",
    "# The Insert method is used to insert an element into a list. It accepts two parameters, \n",
    "l=[2,4,6]\n",
    "l.insert(2,14)\n",
    "print(l)\n"
   ]
  },
  {
   "cell_type": "code",
   "execution_count": 5,
   "id": "7f3d4e2f",
   "metadata": {},
   "outputs": [
    {
     "name": "stdout",
     "output_type": "stream",
     "text": [
      "[2, 3, 8, 7, 9, 6]\n",
      "[2, 3, 8, 9, 6]\n"
     ]
    }
   ],
   "source": [
    "# POP\n",
    "# This method is used to delete an element from the list from the end. It takes an index as an optional parameter. That is if you don't pass any argument then it will remove the item from the end of the list;otherwise, it will remove the item from the specified position.\n",
    "l=[2,3,8,7,9,6,5]\n",
    "l.pop()\n",
    "print(l)\n",
    "l.pop(3)\n",
    "print(l)"
   ]
  },
  {
   "cell_type": "code",
   "execution_count": 6,
   "id": "b39f11dc",
   "metadata": {},
   "outputs": [
    {
     "name": "stdout",
     "output_type": "stream",
     "text": [
      "[2, 8, 7, 9, 6, 5]\n"
     ]
    }
   ],
   "source": [
    "# REMOVE \n",
    "# This method is used to delete an element from the List. However, it is different from the pop() method. Instead of deleting an element from the index, it will delete an element as per the argument. That is, we can pass an element as an argument to be deleted.\n",
    "l=[2,3,8,7,9,6,5]\n",
    "l.remove(3)\n",
    "print(l)"
   ]
  },
  {
   "cell_type": "code",
   "execution_count": 7,
   "id": "12d04ed8",
   "metadata": {},
   "outputs": [
    {
     "name": "stdout",
     "output_type": "stream",
     "text": [
      "[5, 6, 9, 7, 8, 3, 2]\n"
     ]
    }
   ],
   "source": [
    "# CLEAR\n",
    "# This method is used to clear the whole list, i.e., it removes all the items from the list. \n",
    "l=[2,3,8,7,9,6,5]\n",
    "l.reverse()\n",
    "print(l)"
   ]
  },
  {
   "cell_type": "code",
   "execution_count": null,
   "id": "ce1ce367",
   "metadata": {},
   "outputs": [],
   "source": []
  }
 ],
 "metadata": {
  "kernelspec": {
   "display_name": "Python 3 (ipykernel)",
   "language": "python",
   "name": "python3"
  },
  "language_info": {
   "codemirror_mode": {
    "name": "ipython",
    "version": 3
   },
   "file_extension": ".py",
   "mimetype": "text/x-python",
   "name": "python",
   "nbconvert_exporter": "python",
   "pygments_lexer": "ipython3",
   "version": "3.11.5"
  }
 },
 "nbformat": 4,
 "nbformat_minor": 5
}
