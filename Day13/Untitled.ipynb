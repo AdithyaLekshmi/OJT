{
 "cells": [
  {
   "cell_type": "code",
   "execution_count": null,
   "id": "41e0f9ad",
   "metadata": {},
   "outputs": [],
   "source": [
    "******Get third and fourth elements from an array and add them******"
   ]
  },
  {
   "cell_type": "code",
   "execution_count": 1,
   "id": "7ed40f17",
   "metadata": {},
   "outputs": [
    {
     "name": "stdout",
     "output_type": "stream",
     "text": [
      "7\n"
     ]
    }
   ],
   "source": [
    "import numpy as np\n",
    "array = np.array([1, 2, 3, 4, 5])\n",
    "third_fourth = array[2:4]\n",
    "sum = np.sum(third_fourth)\n",
    "print(sum)\n"
   ]
  },
  {
   "cell_type": "code",
   "execution_count": null,
   "id": "1cf79ba4",
   "metadata": {},
   "outputs": [],
   "source": [
    "******Access the element on the 2nd row, 5th column in the array******"
   ]
  },
  {
   "cell_type": "code",
   "execution_count": 6,
   "id": "2086d89d",
   "metadata": {},
   "outputs": [
    {
     "name": "stdout",
     "output_type": "stream",
     "text": [
      "9\n"
     ]
    }
   ],
   "source": [
    "import numpy as np\n",
    "arr = np.array([[1, 2, 3, 4, 0], [5, 6, 7, 8, 9]])\n",
    "element = arr[1, 4]\n",
    "print(element)"
   ]
  },
  {
   "cell_type": "code",
   "execution_count": null,
   "id": "884276d4",
   "metadata": {},
   "outputs": [],
   "source": [
    "******Access the third element of the second array of the first array******"
   ]
  },
  {
   "cell_type": "code",
   "execution_count": 7,
   "id": "826c3bf8",
   "metadata": {},
   "outputs": [
    {
     "name": "stdout",
     "output_type": "stream",
     "text": [
      "6\n"
     ]
    }
   ],
   "source": [
    "import numpy as np\n",
    "arr = np.array([[[1, 2, 3], [4, 5, 6]], [[7, 8, 9], [10, 11, 12]]])\n",
    "third_element = arr[0, 1, 2]\n",
    "print(third_element)\n"
   ]
  },
  {
   "cell_type": "code",
   "execution_count": null,
   "id": "ddd114f8",
   "metadata": {},
   "outputs": [],
   "source": [
    "******Slice elements from the beginning to index 4 (not included)******"
   ]
  },
  {
   "cell_type": "code",
   "execution_count": 8,
   "id": "63d366c2",
   "metadata": {},
   "outputs": [
    {
     "name": "stdout",
     "output_type": "stream",
     "text": [
      "[1, 2, 3, 4]\n"
     ]
    }
   ],
   "source": [
    "my_list = [1, 2, 3, 4, 5, 6, 7]\n",
    "sliced_list = my_list[:4]\n",
    "print(sliced_list)"
   ]
  },
  {
   "cell_type": "code",
   "execution_count": null,
   "id": "bbb0fe0d",
   "metadata": {},
   "outputs": [],
   "source": [
    "******Slice from the index 3 from the end to index 1 from the end******"
   ]
  },
  {
   "cell_type": "code",
   "execution_count": 9,
   "id": "4c6170b4",
   "metadata": {},
   "outputs": [
    {
     "name": "stdout",
     "output_type": "stream",
     "text": [
      "[5 6]\n"
     ]
    }
   ],
   "source": [
    "import numpy as np\n",
    "my_array = np.array([1, 2, 3, 4, 5, 6, 7])\n",
    "sliced_array = my_array[-3:-1]\n",
    "print(sliced_array) "
   ]
  },
  {
   "cell_type": "code",
   "execution_count": null,
   "id": "0df32d6a",
   "metadata": {},
   "outputs": [],
   "source": []
  }
 ],
 "metadata": {
  "kernelspec": {
   "display_name": "Python 3 (ipykernel)",
   "language": "python",
   "name": "python3"
  },
  "language_info": {
   "codemirror_mode": {
    "name": "ipython",
    "version": 3
   },
   "file_extension": ".py",
   "mimetype": "text/x-python",
   "name": "python",
   "nbconvert_exporter": "python",
   "pygments_lexer": "ipython3",
   "version": "3.11.5"
  }
 },
 "nbformat": 4,
 "nbformat_minor": 5
}
