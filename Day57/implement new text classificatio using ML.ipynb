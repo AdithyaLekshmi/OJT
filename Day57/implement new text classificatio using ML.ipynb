{
 "cells": [
  {
   "cell_type": "code",
   "execution_count": 1,
   "id": "fe9f3b34-e14f-4669-a8a8-733271ee7a38",
   "metadata": {},
   "outputs": [],
   "source": [
    "import numpy as np\n",
    "from sklearn.feature_extraction.text import CountVectorizer\n",
    "from sklearn.linear_model import LogisticRegression\n",
    "from sklearn.model_selection import train_test_split\n",
    "from sklearn.metrics import accuracy_score"
   ]
  },
  {
   "cell_type": "code",
   "execution_count": 3,
   "id": "da63fcc0-ccf8-4bb3-9c85-009c8a1bb16e",
   "metadata": {},
   "outputs": [],
   "source": [
    "new_review=[\"i really enjoyed the movie\",\n",
    "           \"This movie is very very good\",\n",
    "            \"I really enjoyed this outstanding movie\",\n",
    "           \"This movie is just ok thats all\",\n",
    "           \"This is an average movie\",\n",
    "           \"This movie is very bad\",\n",
    "           \"Watching this movie is the waste of time\"]"
   ]
  },
  {
   "cell_type": "code",
   "execution_count": 5,
   "id": "5e7b2411-a0ed-48d1-a160-8dc5acf800f9",
   "metadata": {},
   "outputs": [
    {
     "name": "stdout",
     "output_type": "stream",
     "text": [
      "Accuracy: 50.00%\n"
     ]
    }
   ],
   "source": [
    "#positive1,negative=0,neutral=2\n",
    "labels=[1,1,1,2,2,0,0]\n",
    "#create vectorization for the above\n",
    "vectorizer=CountVectorizer()\n",
    "x=vectorizer.fit_transform(new_review)\n",
    "y=np.array(labels)\n",
    "#splitted the trains sets and test sets\n",
    "x_train,x_test,y_train,y_test=train_test_split(x,y,test_size=0.2,random_state=42)\n",
    "#create our model\n",
    "model=LogisticRegression()\n",
    "model.fit(x_train,y_train)\n",
    "y_pred=model.predict(x_test)\n",
    "accuracy=accuracy_score(y_test,y_pred)\n",
    "print(f\"Accuracy: {accuracy*100:.2f}%\")"
   ]
  },
  {
   "cell_type": "code",
   "execution_count": null,
   "id": "6f688dcc-753b-4af3-8464-6ba5486ca2af",
   "metadata": {},
   "outputs": [],
   "source": []
  }
 ],
 "metadata": {
  "kernelspec": {
   "display_name": "Python 3 (ipykernel)",
   "language": "python",
   "name": "python3"
  },
  "language_info": {
   "codemirror_mode": {
    "name": "ipython",
    "version": 3
   },
   "file_extension": ".py",
   "mimetype": "text/x-python",
   "name": "python",
   "nbconvert_exporter": "python",
   "pygments_lexer": "ipython3",
   "version": "3.12.4"
  }
 },
 "nbformat": 4,
 "nbformat_minor": 5
}
