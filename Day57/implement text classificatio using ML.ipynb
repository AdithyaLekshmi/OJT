{
 "cells": [
  {
   "cell_type": "code",
   "execution_count": null,
   "id": "3a7fc66c-6a78-47c5-95f6-f471f6d6e2fe",
   "metadata": {},
   "outputs": [],
   "source": [
    "#create a model with logistic regression and Bow for the text classification"
   ]
  },
  {
   "cell_type": "code",
   "execution_count": 37,
   "id": "5a5a51c1-4ee9-473b-9b7f-e89a083cc387",
   "metadata": {},
   "outputs": [],
   "source": [
    "import numpy as np\n",
    "from sklearn.feature_extraction.text import CountVectorizer\n",
    "from sklearn.linear_model import LogisticRegression\n",
    "from sklearn.model_selection import train_test_split\n",
    "from sklearn.metrics import accuracy_score"
   ]
  },
  {
   "cell_type": "code",
   "execution_count": null,
   "id": "ddcf902b-eed2-4fda-93ec-1f29c3072cb9",
   "metadata": {},
   "outputs": [],
   "source": [
    "#create sample data"
   ]
  },
  {
   "cell_type": "code",
   "execution_count": 39,
   "id": "0dda7d88-d628-4839-8ada-6bf6141fe64e",
   "metadata": {},
   "outputs": [],
   "source": [
    "review=[\n",
    "    \"i love the movie,it was good\",\n",
    "    \"the movie was boring\",\n",
    "    \"excellent movie,actors done well\",\n",
    "    \"it was a normal movie\"\n",
    "]"
   ]
  },
  {
   "cell_type": "code",
   "execution_count": 41,
   "id": "971b01dd-97e0-472c-b35f-4bbf3392ae9f",
   "metadata": {},
   "outputs": [
    {
     "name": "stdout",
     "output_type": "stream",
     "text": [
      "Accuracy: 0.00%\n"
     ]
    }
   ],
   "source": [
    "#positive1,negative=0,neutral=2\n",
    "labels=[1,0,1,2]\n",
    "#create vectorization for the above\n",
    "vectorizer=CountVectorizer()\n",
    "x=vectorizer.fit_transform(review)\n",
    "y=np.array(labels)\n",
    "#splitted the trains sets and test sets\n",
    "x_train,x_test,y_train,y_test=train_test_split(x,y,test_size=0.2,random_state=42)\n",
    "#create our model\n",
    "model=LogisticRegression()\n",
    "model.fit(x_train,y_train)\n",
    "y_pred=model.predict(x_test)\n",
    "accuracy=accuracy_score(y_test,y_pred)\n",
    "print(f\"Accuracy: {accuracy*100:.2f}%\")\n"
   ]
  },
  {
   "cell_type": "code",
   "execution_count": 23,
   "id": "2b485a8b-42b0-4c68-b630-aadc619e5c3b",
   "metadata": {},
   "outputs": [],
   "source": [
    "#create a sample review for the prediction\n",
    "new_review=[\"i really enjoyed the movie\"]"
   ]
  },
  {
   "cell_type": "code",
   "execution_count": null,
   "id": "ff9d2213-7dd4-43c9-a4a3-6d1c235dec95",
   "metadata": {},
   "outputs": [],
   "source": []
  }
 ],
 "metadata": {
  "kernelspec": {
   "display_name": "Python 3 (ipykernel)",
   "language": "python",
   "name": "python3"
  },
  "language_info": {
   "codemirror_mode": {
    "name": "ipython",
    "version": 3
   },
   "file_extension": ".py",
   "mimetype": "text/x-python",
   "name": "python",
   "nbconvert_exporter": "python",
   "pygments_lexer": "ipython3",
   "version": "3.12.4"
  }
 },
 "nbformat": 4,
 "nbformat_minor": 5
}
