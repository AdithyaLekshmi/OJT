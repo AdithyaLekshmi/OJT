{
 "cells": [
  {
   "cell_type": "code",
   "execution_count": 32,
   "id": "f39d3a01",
   "metadata": {},
   "outputs": [],
   "source": [
    "import numpy as np"
   ]
  },
  {
   "cell_type": "code",
   "execution_count": 33,
   "id": "0d665537",
   "metadata": {},
   "outputs": [],
   "source": [
    "# Create a class of Perceptron\n",
    "class Perceptron:\n",
    "    def __init__(self, input_size, learning_rate=0.01, epochs=100):\n",
    "        self.weights = np.random.rand(input_size + 1)  # Add 1 for the bias\n",
    "        self.learning_rate = learning_rate\n",
    "        self.epochs = epochs\n",
    "    "
   ]
  },
  {
   "cell_type": "code",
   "execution_count": 34,
   "id": "eb823bd3",
   "metadata": {},
   "outputs": [],
   "source": [
    "#Define the weighted sum\n",
    "def weighted_sum(self, inputs):\n",
    "#Calculate the dot product of inputs and weights\n",
    "     return np.dot(inputs, self.weights)"
   ]
  },
  {
   "cell_type": "code",
   "execution_count": 35,
   "id": "93685a23",
   "metadata": {},
   "outputs": [],
   "source": [
    "# Define the activation function\n",
    "def activation_function(self, x):\n",
    "# Simple step function\n",
    "    return np.where(x >= 0, 1, 0)"
   ]
  },
  {
   "cell_type": "code",
   "execution_count": 36,
   "id": "c6791b3f",
   "metadata": {},
   "outputs": [],
   "source": [
    "#Define the predict method to get the output\n",
    "def predict(self, inputs):\n",
    "     z=self.weighted_sum(inputs)# Calculate the weighted sum\n",
    "     return self.activation_function(z)# Apply activation function"
   ]
  },
  {
   "cell_type": "code",
   "execution_count": 37,
   "id": "8ff810b9",
   "metadata": {},
   "outputs": [],
   "source": [
    "# Define the loss function\n",
    "def loss_function(self, predictions, targets):\n",
    "        # Mean squared error\n",
    "        return np.mean((predictions - targets) ** 2)"
   ]
  },
  {
   "cell_type": "code",
   "execution_count": 38,
   "id": "4d9d9533",
   "metadata": {},
   "outputs": [],
   "source": [
    "#Define the fit method for the training\n",
    "def fit(self, training_inputs, labels):\n",
    "    for epoch in range(1, self.epochs + 1):\n",
    "        epoch_loss = 0\n",
    "        correct_predictions = 0\n",
    "        for inputs, label in zip(training_inputs, labels):\n",
    "            # Add bias to inputs\n",
    "                inputs = np.insert(inputs, 0, 1)\n",
    "                # Calculate the weighted sum\n",
    "                z = self.weighted_sum(inputs)\n",
    "                # Apply activation function\n",
    "                prediction = self.activation_function(z)\n",
    "                # Update weights\n",
    "                update = self.learning_rate * (label - prediction)\n",
    "                self.weights += update * inputs\n",
    "                # Accumulate loss\n",
    "                epoch_loss += self.loss_function(prediction, label)\n",
    "                # Count correct predictions\n",
    "                if prediction == label:\n",
    "                    correct_predictions += 1"
   ]
  },
  {
   "cell_type": "code",
   "execution_count": 40,
   "id": "0c0383d9",
   "metadata": {},
   "outputs": [
    {
     "ename": "NameError",
     "evalue": "name 'epoch' is not defined",
     "output_type": "error",
     "traceback": [
      "\u001b[1;31m---------------------------------------------------------------------------\u001b[0m",
      "\u001b[1;31mNameError\u001b[0m                                 Traceback (most recent call last)",
      "Cell \u001b[1;32mIn[40], line 2\u001b[0m\n\u001b[0;32m      1\u001b[0m \u001b[38;5;66;03m# Print performance and loss for each epoch\u001b[39;00m\n\u001b[1;32m----> 2\u001b[0m \u001b[38;5;28mprint\u001b[39m(\u001b[38;5;124mf\u001b[39m\u001b[38;5;124m\"\u001b[39m\u001b[38;5;124mEpoch \u001b[39m\u001b[38;5;132;01m{\u001b[39;00mepoch\u001b[38;5;132;01m}\u001b[39;00m\u001b[38;5;124m:\u001b[39m\u001b[38;5;124m\"\u001b[39m)\n\u001b[0;32m      3\u001b[0m accuracy \u001b[38;5;241m=\u001b[39m correct_predictions \u001b[38;5;241m/\u001b[39m \u001b[38;5;28mlen\u001b[39m(labels)\n\u001b[0;32m      4\u001b[0m \u001b[38;5;28mprint\u001b[39m(\u001b[38;5;124mf\u001b[39m\u001b[38;5;124m\"\u001b[39m\u001b[38;5;124m Accuracy: \u001b[39m\u001b[38;5;132;01m{\u001b[39;00maccuracy\u001b[38;5;132;01m:\u001b[39;00m\u001b[38;5;124m.2%\u001b[39m\u001b[38;5;132;01m}\u001b[39;00m\u001b[38;5;124m,  Loss: \u001b[39m\u001b[38;5;132;01m{\u001b[39;00mepoch_loss\u001b[38;5;132;01m:\u001b[39;00m\u001b[38;5;124m.4f\u001b[39m\u001b[38;5;132;01m}\u001b[39;00m\u001b[38;5;124m\"\u001b[39m)\n",
      "\u001b[1;31mNameError\u001b[0m: name 'epoch' is not defined"
     ]
    }
   ],
   "source": [
    "# Print performance and loss for each epoch\n",
    "print(f\"Epoch {epoch}:\")\n",
    "accuracy = correct_predictions / len(labels)\n",
    "print(f\" Accuracy: {accuracy:.2%},  Loss: {epoch_loss:.4f}\")\n"
   ]
  },
  {
   "cell_type": "code",
   "execution_count": null,
   "id": "5b781ffe",
   "metadata": {},
   "outputs": [],
   "source": [
    "Train the Perception for the Iris dataset"
   ]
  },
  {
   "cell_type": "code",
   "execution_count": 41,
   "id": "6c797985",
   "metadata": {},
   "outputs": [
    {
     "ename": "AttributeError",
     "evalue": "'Perceptron' object has no attribute 'fit'",
     "output_type": "error",
     "traceback": [
      "\u001b[1;31m---------------------------------------------------------------------------\u001b[0m",
      "\u001b[1;31mAttributeError\u001b[0m                            Traceback (most recent call last)",
      "Cell \u001b[1;32mIn[41], line 23\u001b[0m\n\u001b[0;32m     20\u001b[0m perceptron \u001b[38;5;241m=\u001b[39m Perceptron(input_size\u001b[38;5;241m=\u001b[39m\u001b[38;5;241m4\u001b[39m)\n\u001b[0;32m     22\u001b[0m \u001b[38;5;66;03m# Train the Perceptron\u001b[39;00m\n\u001b[1;32m---> 23\u001b[0m perceptron\u001b[38;5;241m.\u001b[39mfit(X_train, y_train)\n",
      "\u001b[1;31mAttributeError\u001b[0m: 'Perceptron' object has no attribute 'fit'"
     ]
    }
   ],
   "source": [
    "from sklearn.datasets import load_iris\n",
    "from sklearn.model_selection import train_test_split\n",
    "from sklearn.preprocessing import MinMaxScaler\n",
    "\n",
    "# Load Iris dataset\n",
    "iris = load_iris()\n",
    "\n",
    "# Load the input and the output data\n",
    "X = iris.data\n",
    "y = (iris.target == 0).astype(int)  # 1 for Setosa, 0 for non-Setosa\n",
    "\n",
    "# Scale the features\n",
    "scaler = MinMaxScaler()\n",
    "X = scaler.fit_transform(X)\n",
    "\n",
    "# Split data into training and testing sets\n",
    "X_train, X_test, y_train, y_test = train_test_split(X, y, test_size=0.2, random_state=42)\n",
    "\n",
    "# Create a Perceptron with 2 input neurons\n",
    "perceptron = Perceptron(input_size=4)\n",
    "\n",
    "# Train the Perceptron\n",
    "perceptron.fit(X_train, y_train)"
   ]
  },
  {
   "cell_type": "code",
   "execution_count": null,
   "id": "40a66dd4",
   "metadata": {},
   "outputs": [],
   "source": []
  }
 ],
 "metadata": {
  "kernelspec": {
   "display_name": "Python 3 (ipykernel)",
   "language": "python",
   "name": "python3"
  },
  "language_info": {
   "codemirror_mode": {
    "name": "ipython",
    "version": 3
   },
   "file_extension": ".py",
   "mimetype": "text/x-python",
   "name": "python",
   "nbconvert_exporter": "python",
   "pygments_lexer": "ipython3",
   "version": "3.11.5"
  }
 },
 "nbformat": 4,
 "nbformat_minor": 5
}
