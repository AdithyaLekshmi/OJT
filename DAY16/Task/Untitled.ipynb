{
 "cells": [
  {
   "cell_type": "code",
   "execution_count": 1,
   "id": "f42dc1d3",
   "metadata": {},
   "outputs": [
    {
     "name": "stdout",
     "output_type": "stream",
     "text": [
      "(2, 3)\n"
     ]
    }
   ],
   "source": [
    "# 1. Print the shape of a 2-D array\n",
    "import numpy as np\n",
    "arr_2d = np.array([[1, 2, 3], [4, 5, 6]])\n",
    "print(arr_2d.shape)"
   ]
  },
  {
   "cell_type": "code",
   "execution_count": 2,
   "id": "d892420d",
   "metadata": {},
   "outputs": [
    {
     "name": "stdout",
     "output_type": "stream",
     "text": [
      "Shape of the array: (1, 1, 1, 1, 4)\n",
      "Last dimension size: 4\n"
     ]
    }
   ],
   "source": [
    "# 2.  Create an array with 5 dimensions using ndmin using a vector with values 1,2,3,4 and verify that last dimension has value 4\n",
    "\n",
    "import numpy as np\n",
    "arr_5d = np.array([1, 2, 3, 4], ndmin=5)\n",
    "print(\"Shape of the array:\", arr_5d.shape)\n",
    "print(\"Last dimension size:\", arr_5d.shape[-1])"
   ]
  },
  {
   "cell_type": "code",
   "execution_count": 3,
   "id": "3fe3a7fa",
   "metadata": {},
   "outputs": [
    {
     "name": "stdout",
     "output_type": "stream",
     "text": [
      "[[ 1  2  3]\n",
      " [ 4  5  6]\n",
      " [ 7  8  9]\n",
      " [10 11 12]]\n"
     ]
    }
   ],
   "source": [
    "#3. Convert the following 1-D array with 12 elements into a 2-D array. The outermost dimension will have 4 arrays, each with 3 elements:\n",
    "import numpy as np\n",
    "arr_1d = np.array([1, 2, 3, 4, 5, 6, 7, 8, 9, 10, 11, 12])\n",
    "arr_2d = arr_1d.reshape(4, 3)\n",
    "print(arr_2d)"
   ]
  },
  {
   "cell_type": "code",
   "execution_count": 4,
   "id": "4ff33a66",
   "metadata": {},
   "outputs": [
    {
     "name": "stdout",
     "output_type": "stream",
     "text": [
      "[[[ 1  2]\n",
      "  [ 3  4]\n",
      "  [ 5  6]]\n",
      "\n",
      " [[ 7  8]\n",
      "  [ 9 10]\n",
      "  [11 12]]]\n"
     ]
    }
   ],
   "source": [
    "#4. Convert the following 1-D array with 12 elements into a 3-D array. The outermost dimension will have 2 arrays that contains 3 arrays, each with 2 elements\n",
    "import numpy as np\n",
    "arr_1d = np.array([1, 2, 3, 4, 5, 6, 7, 8, 9, 10, 11, 12])\n",
    "arr_3d = arr_1d.reshape(2, 3, 2)\n",
    "print(arr_3d)\n"
   ]
  },
  {
   "cell_type": "code",
   "execution_count": 5,
   "id": "c4cbbe87",
   "metadata": {},
   "outputs": [
    {
     "name": "stdout",
     "output_type": "stream",
     "text": [
      "Is the reshaped array a view? True\n"
     ]
    }
   ],
   "source": [
    "#5. Check if the returned array is a copy or a view.\n",
    "import numpy as np\n",
    "arr_1d = np.array([1, 2, 3, 4, 5, 6, 7, 8, 9, 10, 11, 12])\n",
    "arr_3d = arr_1d.reshape(2, 3, 2)\n",
    "is_view = arr_3d.base is arr_1d             \n",
    "\n",
    "print(\"Is the reshaped array a view?\", is_view)"
   ]
  },
  {
   "cell_type": "code",
   "execution_count": null,
   "id": "218146ac",
   "metadata": {},
   "outputs": [],
   "source": []
  }
 ],
 "metadata": {
  "kernelspec": {
   "display_name": "Python 3 (ipykernel)",
   "language": "python",
   "name": "python3"
  },
  "language_info": {
   "codemirror_mode": {
    "name": "ipython",
    "version": 3
   },
   "file_extension": ".py",
   "mimetype": "text/x-python",
   "name": "python",
   "nbconvert_exporter": "python",
   "pygments_lexer": "ipython3",
   "version": "3.11.5"
  }
 },
 "nbformat": 4,
 "nbformat_minor": 5
}
