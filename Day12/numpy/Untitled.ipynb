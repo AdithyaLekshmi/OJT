{
 "cells": [
  {
   "cell_type": "code",
   "execution_count": null,
   "id": "18938de2",
   "metadata": {},
   "outputs": [],
   "source": [
    "***numpy arrays***\n"
   ]
  },
  {
   "cell_type": "code",
   "execution_count": 1,
   "id": "603fe8ff",
   "metadata": {},
   "outputs": [
    {
     "name": "stdout",
     "output_type": "stream",
     "text": [
      "1 D array is :  [1 2 3 4 5]\n"
     ]
    }
   ],
   "source": [
    "import numpy as np\n",
    "#create 1 D array\n",
    "array_1D=np.array([1,2,3,4,5])\n",
    "print(\"1 D array is : \",array_1D)"
   ]
  },
  {
   "cell_type": "code",
   "execution_count": 2,
   "id": "037eee8b",
   "metadata": {},
   "outputs": [
    {
     "name": "stdout",
     "output_type": "stream",
     "text": [
      "[[1 2 3]\n",
      " [4 5 6]]\n"
     ]
    }
   ],
   "source": [
    "#2 D array\n",
    "array_2D=np.array([[1,2,3],[4,5,6]])\n",
    "print(array_2D)"
   ]
  },
  {
   "cell_type": "code",
   "execution_count": 3,
   "id": "fc8a932e",
   "metadata": {},
   "outputs": [
    {
     "name": "stdout",
     "output_type": "stream",
     "text": [
      "[[[1 2 3]\n",
      "  [4 5 6]\n",
      "  [7 8 9]]]\n"
     ]
    }
   ],
   "source": [
    "#3D array\n",
    "array_3D=np.array([[[1,2,3],[4,5,6],[7,8,9]]])\n",
    "print(array_3D)"
   ]
  },
  {
   "cell_type": "code",
   "execution_count": 5,
   "id": "e377bc24",
   "metadata": {},
   "outputs": [
    {
     "name": "stdout",
     "output_type": "stream",
     "text": [
      "Array with ones :  [[1. 1. 1. 1.]\n",
      " [1. 1. 1. 1.]]\n"
     ]
    }
   ],
   "source": [
    "#create an array with once\n",
    "array_ones=np.ones((2,4))\n",
    "print(\"Array with ones : \",array_ones)"
   ]
  },
  {
   "cell_type": "code",
   "execution_count": 6,
   "id": "82a12d84",
   "metadata": {},
   "outputs": [
    {
     "name": "stdout",
     "output_type": "stream",
     "text": [
      "[[0. 0. 0.]\n",
      " [0. 0. 0.]\n",
      " [0. 0. 0.]]\n"
     ]
    }
   ],
   "source": [
    "#create array with zeros\n",
    "array_zeros=np.zeros((3,3))\n",
    "print(array_zeros)"
   ]
  },
  {
   "cell_type": "code",
   "execution_count": 7,
   "id": "55a04278",
   "metadata": {},
   "outputs": [
    {
     "name": "stdout",
     "output_type": "stream",
     "text": [
      "[0 1 2 3 4 5 6 7 8 9]\n"
     ]
    }
   ],
   "source": [
    "#create an array with a particular range\n",
    "array_range=np.arange(10)\n",
    "print(array_range)"
   ]
  },
  {
   "cell_type": "code",
   "execution_count": 8,
   "id": "aea7cc30",
   "metadata": {},
   "outputs": [
    {
     "name": "stdout",
     "output_type": "stream",
     "text": [
      "6\n"
     ]
    }
   ],
   "source": [
    "#Access element with in the array\n",
    "array_2D=np.array([[1,2,3],[4,5,6]])\n",
    "element=array_2D[1,2]\n",
    "print(element)"
   ]
  },
  {
   "cell_type": "code",
   "execution_count": 9,
   "id": "63e5c958",
   "metadata": {},
   "outputs": [
    {
     "name": "stdout",
     "output_type": "stream",
     "text": [
      "2\n"
     ]
    }
   ],
   "source": [
    "#Access element with in the array\n",
    "array_2D=np.array([[1,2,3],[4,5,6]])\n",
    "element=array_2D[0,1]\n",
    "print(element)"
   ]
  },
  {
   "cell_type": "code",
   "execution_count": 17,
   "id": "b7b669c9",
   "metadata": {},
   "outputs": [
    {
     "name": "stdout",
     "output_type": "stream",
     "text": [
      "[4 5 6]\n"
     ]
    }
   ],
   "source": [
    "#Access by 2row\n",
    "row=array_2D[1,:]\n",
    "print(row)"
   ]
  },
  {
   "cell_type": "code",
   "execution_count": 13,
   "id": "0fbf3846",
   "metadata": {},
   "outputs": [
    {
     "name": "stdout",
     "output_type": "stream",
     "text": [
      "[1 2 3]\n"
     ]
    }
   ],
   "source": [
    "#Access by 2row\n",
    "row=array_2D[0,:]\n",
    "print(row)"
   ]
  },
  {
   "cell_type": "code",
   "execution_count": 15,
   "id": "8c887456",
   "metadata": {},
   "outputs": [
    {
     "name": "stdout",
     "output_type": "stream",
     "text": [
      "[2 5]\n"
     ]
    }
   ],
   "source": [
    "#Access the 2nd column\n",
    "column=array_2D[:,1]\n",
    "print(column)\n"
   ]
  },
  {
   "cell_type": "code",
   "execution_count": 18,
   "id": "5ccca6bf",
   "metadata": {},
   "outputs": [
    {
     "name": "stdout",
     "output_type": "stream",
     "text": [
      "[[2 3]\n",
      " [5 6]]\n"
     ]
    }
   ],
   "source": [
    "#slicing\n",
    "slice_array=array_2D[0:2,1:3]\n",
    "print(slice_array)"
   ]
  },
  {
   "cell_type": "code",
   "execution_count": 19,
   "id": "43af133e",
   "metadata": {},
   "outputs": [
    {
     "name": "stdout",
     "output_type": "stream",
     "text": [
      "[1 2 3 4 5 6]\n"
     ]
    }
   ],
   "source": [
    "#view and copy\n",
    "orginal_array=np.array([1,2,3,4,5,6])\n",
    "print(orginal_array)"
   ]
  },
  {
   "cell_type": "code",
   "execution_count": 21,
   "id": "f4c8dd80",
   "metadata": {},
   "outputs": [
    {
     "name": "stdout",
     "output_type": "stream",
     "text": [
      "[1 2 3 4 5 6]\n"
     ]
    }
   ],
   "source": [
    "#create a view for the array\n",
    "view_array=orginal_array.view()\n",
    "print(view_array)"
   ]
  },
  {
   "cell_type": "code",
   "execution_count": 22,
   "id": "d223e922",
   "metadata": {},
   "outputs": [
    {
     "name": "stdout",
     "output_type": "stream",
     "text": [
      "[ 1  2 30  4  5  6]\n"
     ]
    }
   ],
   "source": [
    "view_array[2]=30\n",
    "print(view_array)"
   ]
  },
  {
   "cell_type": "code",
   "execution_count": 23,
   "id": "0f3ae84a",
   "metadata": {},
   "outputs": [
    {
     "name": "stdout",
     "output_type": "stream",
     "text": [
      "[ 1  2 30  4  5  6]\n"
     ]
    }
   ],
   "source": [
    "print(orginal_array)"
   ]
  },
  {
   "cell_type": "code",
   "execution_count": 24,
   "id": "1392157b",
   "metadata": {},
   "outputs": [
    {
     "name": "stdout",
     "output_type": "stream",
     "text": [
      "[ 1  2 30  4  5  6]\n"
     ]
    }
   ],
   "source": [
    "#create a copy of orgianl array\n",
    "copy_array=orginal_array.copy()\n",
    "print(copy_array)"
   ]
  },
  {
   "cell_type": "code",
   "execution_count": 25,
   "id": "932e2bd3",
   "metadata": {},
   "outputs": [
    {
     "name": "stdout",
     "output_type": "stream",
     "text": [
      "[10  2 30  4  5  6]\n"
     ]
    }
   ],
   "source": [
    "copy_array[0]=10\n",
    "print(copy_array)"
   ]
  },
  {
   "cell_type": "code",
   "execution_count": 26,
   "id": "281b947d",
   "metadata": {},
   "outputs": [
    {
     "name": "stdout",
     "output_type": "stream",
     "text": [
      "[ 1  2 30  4  5  6]\n"
     ]
    }
   ],
   "source": [
    "print(orginal_array)"
   ]
  },
  {
   "cell_type": "code",
   "execution_count": null,
   "id": "17d6ffc9",
   "metadata": {},
   "outputs": [],
   "source": []
  }
 ],
 "metadata": {
  "kernelspec": {
   "display_name": "Python 3 (ipykernel)",
   "language": "python",
   "name": "python3"
  },
  "language_info": {
   "codemirror_mode": {
    "name": "ipython",
    "version": 3
   },
   "file_extension": ".py",
   "mimetype": "text/x-python",
   "name": "python",
   "nbconvert_exporter": "python",
   "pygments_lexer": "ipython3",
   "version": "3.11.5"
  }
 },
 "nbformat": 4,
 "nbformat_minor": 5
}
