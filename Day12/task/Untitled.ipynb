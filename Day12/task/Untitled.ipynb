{
 "cells": [
  {
   "cell_type": "code",
   "execution_count": 7,
   "id": "a13ec23c",
   "metadata": {},
   "outputs": [
    {
     "name": "stdout",
     "output_type": "stream",
     "text": [
      "Empty array:\n",
      "[[0. 0. 0.]\n",
      " [0. 0. 0.]\n",
      " [0. 0. 0.]]\n"
     ]
    }
   ],
   "source": [
    "#How to create an empty and a full NumPy array?\n",
    "import numpy as np\n",
    "\n",
    "# Create an empty array of shape (3, 3)\n",
    "empty_array = np.empty((3, 3))\n",
    "\n",
    "print(\"Empty array:\")\n",
    "print(empty_array)\n"
   ]
  },
  {
   "cell_type": "code",
   "execution_count": 5,
   "id": "18d5f449",
   "metadata": {},
   "outputs": [
    {
     "name": "stdout",
     "output_type": "stream",
     "text": [
      "Full array:\n",
      "[[1 1 1]\n",
      " [1 1 1]\n",
      " [1 1 1]]\n"
     ]
    }
   ],
   "source": [
    "\n",
    "# Create a full array of shape (3, 3) with all elements set to 1\n",
    "full_array = np.full((3, 3), 1)\n",
    "\n",
    "print(\"Full array:\")\n",
    "print(full_array)\n"
   ]
  },
  {
   "cell_type": "code",
   "execution_count": null,
   "id": "875dc2e4",
   "metadata": {},
   "outputs": [],
   "source": [
    "**** Find the number of rows and columns of a given matrix using NumPy******"
   ]
  },
  {
   "cell_type": "code",
   "execution_count": 6,
   "id": "2263d276",
   "metadata": {},
   "outputs": [
    {
     "name": "stdout",
     "output_type": "stream",
     "text": [
      "Number of rows: 3\n",
      "Number of columns: 3\n"
     ]
    }
   ],
   "source": [
    "import numpy as np\n",
    "\n",
    "\n",
    "matrix = np.array([\n",
    "    [1, 2, 3],\n",
    "    [4, 5, 6],\n",
    "    [7, 8, 9]\n",
    "])\n",
    "\n",
    "# Get the shape of the matrix\n",
    "rows, columns = matrix.shape\n",
    "\n",
    "print(f\"Number of rows: {rows}\")\n",
    "print(f\"Number of columns: {columns}\")\n"
   ]
  },
  {
   "cell_type": "code",
   "execution_count": null,
   "id": "2f7f371f",
   "metadata": {},
   "outputs": [],
   "source": [
    "***Counts the number of non-zero values in the array***"
   ]
  },
  {
   "cell_type": "code",
   "execution_count": 1,
   "id": "27b04288",
   "metadata": {},
   "outputs": [
    {
     "name": "stdout",
     "output_type": "stream",
     "text": [
      "The number of non-zero values in the array is: 5\n"
     ]
    }
   ],
   "source": [
    "import numpy as np\n",
    "\n",
    "array = np.array([1, 0, 2, 0, 3, 4, 0, 5])\n",
    "\n",
    "# Count the number of non-zero values\n",
    "non_zero_count = np.count_nonzero(array)\n",
    "\n",
    "print(f\"The number of non-zero values in the array is: {non_zero_count}\")\n"
   ]
  },
  {
   "cell_type": "code",
   "execution_count": null,
   "id": "2838abb7",
   "metadata": {},
   "outputs": [],
   "source": [
    "***Find the sum of values in a matrix***"
   ]
  },
  {
   "cell_type": "code",
   "execution_count": 2,
   "id": "b8c41bc7",
   "metadata": {},
   "outputs": [
    {
     "name": "stdout",
     "output_type": "stream",
     "text": [
      "The sum of all values in the matrix is: 45\n"
     ]
    }
   ],
   "source": [
    "import numpy as np\n",
    "matrix = np.array([\n",
    "    [1, 2, 3],\n",
    "    [4, 5, 6],\n",
    "    [7, 8, 9]\n",
    "])\n",
    "\n",
    "#  the sum of all values in the matrix\n",
    "matrix_sum = np.sum(matrix)\n",
    "\n",
    "print(f\"The sum of all values in the matrix is: {matrix_sum}\")\n"
   ]
  },
  {
   "cell_type": "code",
   "execution_count": null,
   "id": "51e9a133",
   "metadata": {},
   "outputs": [],
   "source": [
    "***Calculate the sum of the diagonal elements of a NumPy array 3*3 and 4*4***"
   ]
  },
  {
   "cell_type": "code",
   "execution_count": 14,
   "id": "8db8af4a",
   "metadata": {},
   "outputs": [
    {
     "name": "stdout",
     "output_type": "stream",
     "text": [
      "Sum of the diagonal elements of the 3x3 matrix: 15\n",
      "Sum of the diagonal elements of the 4x4 matrix: 34\n"
     ]
    }
   ],
   "source": [
    "#Calculate the sum of the diagonal elements of a NumPy array 3*3 and 4*4\n",
    "\n",
    "import numpy as np\n",
    "\n",
    "matrix_3x3 = np.array([[1, 2, 3],\n",
    "                       [4, 5, 6],\n",
    "                       [7, 8, 9]])\n",
    "\n",
    "matrix_4x4 = np.array([[1, 2, 3, 4],\n",
    "                       [5, 6, 7, 8],\n",
    "                       [9, 10, 11, 12],\n",
    "                       [13, 14, 15, 16]])\n",
    "\n",
    "diagonal_sum_3x3 = np.trace(matrix_3x3)\n",
    "diagonal_sum_4x4 = np.trace(matrix_4x4)\n",
    "\n",
    "print(\"Sum of the diagonal elements of the 3x3 matrix:\", diagonal_sum_3x3)\n",
    "print(\"Sum of the diagonal elements of the 4x4 matrix:\", diagonal_sum_4x4)\n"
   ]
  },
  {
   "cell_type": "code",
   "execution_count": null,
   "id": "e531c1f5",
   "metadata": {},
   "outputs": [],
   "source": [
    "***How to inverse a matrix using NumPy***"
   ]
  },
  {
   "cell_type": "code",
   "execution_count": 13,
   "id": "7d0bc0f8",
   "metadata": {},
   "outputs": [
    {
     "name": "stdout",
     "output_type": "stream",
     "text": [
      "The inverse of the 3x3 matrix is:\n",
      "[[-24.  18.   5.]\n",
      " [ 20. -15.  -4.]\n",
      " [ -5.   4.   1.]]\n"
     ]
    }
   ],
   "source": [
    "#3x3 matrix\n",
    "import numpy as np\n",
    "matrix_3x3 = np.array([\n",
    "    [1, 2, 3],\n",
    "    [0, 1, 4],\n",
    "    [5, 6, 0]\n",
    "])\n",
    "\n",
    "inverse_matrix_3x3 = np.linalg.inv(matrix_3x3)\n",
    "print(\"The inverse of the 3x3 matrix is:\")\n",
    "print(inverse_matrix_3x3)\n"
   ]
  },
  {
   "cell_type": "code",
   "execution_count": null,
   "id": "4a9de4a7",
   "metadata": {},
   "outputs": [],
   "source": [
    "***Matrix Multiplication in NumPy***\n"
   ]
  },
  {
   "cell_type": "code",
   "execution_count": 15,
   "id": "81d46cb7",
   "metadata": {},
   "outputs": [
    {
     "name": "stdout",
     "output_type": "stream",
     "text": [
      "[[19 22]\n",
      " [43 50]]\n"
     ]
    }
   ],
   "source": [
    "import numpy as np\n",
    "A = np.array([[1, 2], [3, 4]])\n",
    "B = np.array([[5, 6], [7, 8]])\n",
    "C = np.dot(A, B)\n",
    "print(C)\n"
   ]
  },
  {
   "cell_type": "code",
   "execution_count": null,
   "id": "ba906aa8",
   "metadata": {},
   "outputs": [],
   "source": [
    "***Get the maximum and minimum value from given matrix***"
   ]
  },
  {
   "cell_type": "code",
   "execution_count": 16,
   "id": "607b1d79",
   "metadata": {},
   "outputs": [
    {
     "name": "stdout",
     "output_type": "stream",
     "text": [
      "Maximum value: 9\n",
      "Minimum value: 1\n"
     ]
    }
   ],
   "source": [
    "import numpy as np\n",
    "matrix = np.array([[1, 2, 3],\n",
    "                   [4, 5, 6],\n",
    "                   [7, 8, 9]])\n",
    "max_value = np.max(matrix)\n",
    "min_value = np.min(matrix)\n",
    "print(\"Maximum value:\", max_value)\n",
    "print(\"Minimum value:\", min_value)"
   ]
  },
  {
   "cell_type": "code",
   "execution_count": null,
   "id": "81879b75",
   "metadata": {},
   "outputs": [],
   "source": [
    "*** Adding and Subtracting Matrices in Python***"
   ]
  },
  {
   "cell_type": "code",
   "execution_count": 18,
   "id": "d39c4e0f",
   "metadata": {},
   "outputs": [
    {
     "name": "stdout",
     "output_type": "stream",
     "text": [
      "Addition Result:\n",
      " [[ 6  8]\n",
      " [10 12]]\n",
      "Subtraction Result:\n",
      " [[-4 -4]\n",
      " [-4 -4]]\n"
     ]
    }
   ],
   "source": [
    "import numpy as np\n",
    "A = np.array([[1, 2], [3, 4]])\n",
    "B = np.array([[5, 6], [7, 8]])\n",
    "addition_result = A + B\n",
    "subtraction_result = A - B\n",
    "print(\"Addition Result:\\n\", addition_result)\n",
    "print(\"Subtraction Result:\\n\", subtraction_result)\n"
   ]
  },
  {
   "cell_type": "code",
   "execution_count": null,
   "id": "f1e0ad13",
   "metadata": {},
   "outputs": [],
   "source": [
    "***How to count the frequency of unique values in NumPy array***"
   ]
  },
  {
   "cell_type": "code",
   "execution_count": 19,
   "id": "53b8e079",
   "metadata": {},
   "outputs": [
    {
     "name": "stdout",
     "output_type": "stream",
     "text": [
      "Value: 1, Count: 3\n",
      "Value: 2, Count: 4\n",
      "Value: 3, Count: 2\n",
      "Value: 4, Count: 2\n",
      "Value: 5, Count: 1\n"
     ]
    }
   ],
   "source": [
    "import numpy as np\n",
    "arr = np.array([1, 2, 3, 4, 2, 3, 1, 2, 4, 5, 1, 2])\n",
    "unique_values, counts = np.unique(arr, return_counts=True)\n",
    "for value, count in zip(unique_values, counts):\n",
    "    print(f\"Value: {value}, Count: {count}\")\n",
    "\n"
   ]
  },
  {
   "cell_type": "code",
   "execution_count": null,
   "id": "57f9e001",
   "metadata": {},
   "outputs": [],
   "source": []
  }
 ],
 "metadata": {
  "kernelspec": {
   "display_name": "Python 3 (ipykernel)",
   "language": "python",
   "name": "python3"
  },
  "language_info": {
   "codemirror_mode": {
    "name": "ipython",
    "version": 3
   },
   "file_extension": ".py",
   "mimetype": "text/x-python",
   "name": "python",
   "nbconvert_exporter": "python",
   "pygments_lexer": "ipython3",
   "version": "3.11.5"
  }
 },
 "nbformat": 4,
 "nbformat_minor": 5
}
