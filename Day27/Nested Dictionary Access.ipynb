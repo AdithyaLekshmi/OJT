{
 "cells": [
  {
   "cell_type": "code",
   "execution_count": 1,
   "id": "81ee98e5",
   "metadata": {},
   "outputs": [
    {
     "name": "stdout",
     "output_type": "stream",
     "text": [
      "{'file1.txt': {}, 'file2.txt': {}}\n",
      "None\n"
     ]
    }
   ],
   "source": [
    "def access_nested_dict(file_system, path):\n",
    "    current = file_system\n",
    "    for directory in path.strip('/').split('/'):\n",
    "        if directory in current:\n",
    "            current = current[directory]\n",
    "        else:\n",
    "            return None\n",
    "    return current\n",
    "\n",
    "fs = {\n",
    "    'home': {\n",
    "        'user': {\n",
    "            'documents': {'file1.txt': {}, 'file2.txt': {}},\n",
    "            'downloads': {}\n",
    "        }\n",
    "    }\n",
    "}\n",
    "print(access_nested_dict(fs, '/home/user/documents'))\n",
    "\n",
    "print(access_nested_dict(fs, '/home/user/pictures'))\n"
   ]
  },
  {
   "cell_type": "code",
   "execution_count": null,
   "id": "40d25ea8",
   "metadata": {},
   "outputs": [],
   "source": []
  }
 ],
 "metadata": {
  "kernelspec": {
   "display_name": "Python 3 (ipykernel)",
   "language": "python",
   "name": "python3"
  },
  "language_info": {
   "codemirror_mode": {
    "name": "ipython",
    "version": 3
   },
   "file_extension": ".py",
   "mimetype": "text/x-python",
   "name": "python",
   "nbconvert_exporter": "python",
   "pygments_lexer": "ipython3",
   "version": "3.11.5"
  }
 },
 "nbformat": 4,
 "nbformat_minor": 5
}
