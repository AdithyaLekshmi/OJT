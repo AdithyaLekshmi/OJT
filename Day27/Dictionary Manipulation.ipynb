{
 "cells": [
  {
   "cell_type": "code",
   "execution_count": null,
   "id": "d89ac5ff",
   "metadata": {},
   "outputs": [],
   "source": [
    "# Write a Python function that takes two dictionaries as input and returns a new dictionary containing all key-value pairs from both dictionaries. If a key exists in both dictionaries, \n",
    "#the value from the second dictionary should be used."
   ]
  },
  {
   "cell_type": "code",
   "execution_count": 1,
   "id": "e45db89c",
   "metadata": {},
   "outputs": [
    {
     "name": "stdout",
     "output_type": "stream",
     "text": [
      "{'a': 1, 'b': 3, 'c': 4}\n"
     ]
    }
   ],
   "source": [
    "def merge_dicts(dict1, dict2):\n",
    "    return {**dict1, **dict2}\n",
    "\n",
    "# Alternative solution:\n",
    "# def merge_dicts(dict1, dict2):\n",
    "#     result = dict1.copy()\n",
    "#     result.update(dict2)\n",
    "#     return result\n",
    "\n",
    "# Example usage:\n",
    "d1 = {'a': 1, 'b': 2}\n",
    "d2 = {'b': 3, 'c': 4}\n",
    "print(merge_dicts(d1, d2))  # Output: {'a': 1, 'b': 3, 'c': 4}"
   ]
  },
  {
   "cell_type": "code",
   "execution_count": null,
   "id": "201c2028",
   "metadata": {},
   "outputs": [],
   "source": []
  }
 ],
 "metadata": {
  "kernelspec": {
   "display_name": "Python 3 (ipykernel)",
   "language": "python",
   "name": "python3"
  },
  "language_info": {
   "codemirror_mode": {
    "name": "ipython",
    "version": 3
   },
   "file_extension": ".py",
   "mimetype": "text/x-python",
   "name": "python",
   "nbconvert_exporter": "python",
   "pygments_lexer": "ipython3",
   "version": "3.11.5"
  }
 },
 "nbformat": 4,
 "nbformat_minor": 5
}
