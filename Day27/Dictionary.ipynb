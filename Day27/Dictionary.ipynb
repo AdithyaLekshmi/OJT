{
 "cells": [
  {
   "cell_type": "code",
   "execution_count": 1,
   "id": "8f14750e",
   "metadata": {},
   "outputs": [
    {
     "name": "stdout",
     "output_type": "stream",
     "text": [
      "dict['Programmer']:  Business Layer\n",
      "dict['UI Developer']:  Presentation Layer\n"
     ]
    }
   ],
   "source": [
    "# Accessing Dictionary\n",
    "dict = {'Programmer': 'Business Layer', 'DataBase Admin': 'Database Layer', 'UI Developer': 'Presentation Layer'};\n",
    "print (\"dict['Programmer']: \", dict['Programmer']) \n",
    "print (\"dict['UI Developer']: \", dict['UI Developer'])"
   ]
  },
  {
   "cell_type": "code",
   "execution_count": 2,
   "id": "c186bd45",
   "metadata": {},
   "outputs": [],
   "source": [
    "#Updating Dictionary\n",
    "dict = {'Programmer': 'Business Layer', 'DataBase Admin': 'Database Layer', 'UI Developer': 'Presentation Layer'};"
   ]
  },
  {
   "cell_type": "code",
   "execution_count": 3,
   "id": "eb278095",
   "metadata": {},
   "outputs": [],
   "source": [
    "# Updating a New Entry\n",
    "dict['Programmer'] = 'Architecture Design';"
   ]
  },
  {
   "cell_type": "code",
   "execution_count": 4,
   "id": "293095c4",
   "metadata": {},
   "outputs": [
    {
     "name": "stdout",
     "output_type": "stream",
     "text": [
      "dict['Programmer']:  Architecture Design\n"
     ]
    }
   ],
   "source": [
    "#Showing New Entry \n",
    "print (\"dict['Programmer']: \", dict['Programmer'])"
   ]
  },
  {
   "cell_type": "code",
   "execution_count": 5,
   "id": "f9268c1c",
   "metadata": {},
   "outputs": [
    {
     "name": "stdout",
     "output_type": "stream",
     "text": [
      "dict['Programmer']:  dict['programmer']\n",
      "dict['Database Admin']:  dict['Database Admin']\n"
     ]
    }
   ],
   "source": [
    "# Deletion in Dictionary\n",
    "dict = {'Programmer': 'Business Layer', 'DataBase Admin': 'Database Layer', 'UI Developer': 'Presentation Layer'}; del dict['UI Developer']; \n",
    "dict.clear(); # remove all entries in dict\n",
    "del dict ; # delete entire dictionary\n",
    "print (\"dict['Programmer']: \", dict['programmer'])\n",
    "print (\"dict['Database Admin']: \", dict['Database Admin'])\n"
   ]
  },
  {
   "cell_type": "code",
   "execution_count": 6,
   "id": "cdb9b1db",
   "metadata": {},
   "outputs": [
    {
     "name": "stdout",
     "output_type": "stream",
     "text": [
      "Love your job\n",
      " but don't love your company,\n",
      " because you may not know when your company stops loving you.\n"
     ]
    }
   ],
   "source": [
    "# Display texts in Multiple Lines\n",
    "print('Love your job\\n but don\\'t love your company,\\n because you may not know when your company stops loving you.')\n"
   ]
  },
  {
   "cell_type": "code",
   "execution_count": null,
   "id": "6c353089",
   "metadata": {},
   "outputs": [],
   "source": []
  }
 ],
 "metadata": {
  "kernelspec": {
   "display_name": "Python 3 (ipykernel)",
   "language": "python",
   "name": "python3"
  },
  "language_info": {
   "codemirror_mode": {
    "name": "ipython",
    "version": 3
   },
   "file_extension": ".py",
   "mimetype": "text/x-python",
   "name": "python",
   "nbconvert_exporter": "python",
   "pygments_lexer": "ipython3",
   "version": "3.11.5"
  }
 },
 "nbformat": 4,
 "nbformat_minor": 5
}
