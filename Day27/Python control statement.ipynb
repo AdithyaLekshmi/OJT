{
 "cells": [
  {
   "cell_type": "code",
   "execution_count": 1,
   "id": "3a533103",
   "metadata": {},
   "outputs": [
    {
     "name": "stdout",
     "output_type": "stream",
     "text": [
      "7 is a non zero value\n",
      "thank you..\n",
      "non zero or zero\n",
      "neg.Number\n"
     ]
    }
   ],
   "source": [
    "# Python Control Statements\n",
    "# if-else\n",
    "num =7\n",
    "if num>0:\n",
    "    print(num,\"is a non zero value\")\n",
    "    print(\"thank you..\")\n",
    "\n",
    "    num=0\n",
    "    if num> 0:\n",
    "        print(num, \"is a non-zero value.\")\n",
    "        print(\"Thank you\")\n",
    "    num =7\n",
    "    if num>-0:\n",
    "        print(\"non zero or zero\")\n",
    "    else:\n",
    "        print(\"neg.number\")\n",
    "    num=-3\n",
    "    if num>=0:\n",
    "        print(\"non zero or zero\")\n",
    "    else:\n",
    "        print(\"neg.Number\")\n"
   ]
  },
  {
   "cell_type": "code",
   "execution_count": 5,
   "id": "b3d69637",
   "metadata": {},
   "outputs": [
    {
     "name": "stdout",
     "output_type": "stream",
     "text": [
      "pos.number\n",
      "Neg.number\n",
      "zero\n"
     ]
    }
   ],
   "source": [
    "# Nested if-else\n",
    "num=6.7\n",
    "if num>0:\n",
    "    print(\"pos.number\")\n",
    "elif num == 0:\n",
    "    print(\"zero\")\n",
    "else:\n",
    "    print(\"neg.number\")\n",
    "\n",
    "num=-8.9\n",
    "if num > 0:\n",
    "    print(\"pos.number\")\n",
    "elif num == 0:\n",
    "    print(\"zero\")\n",
    "else:\n",
    "    print(\"Neg.number\")\n",
    "\n",
    "num=0\n",
    "if num > 0:\n",
    "    print(\"pos.number\")\n",
    "elif num == 0:\n",
    "    print(\"zero\")\n",
    "else:\n",
    "    print(\"Neg.number\")\n",
    "\n"
   ]
  },
  {
   "cell_type": "code",
   "execution_count": 4,
   "id": "ccd51da6",
   "metadata": {},
   "outputs": [
    {
     "name": "stdout",
     "output_type": "stream",
     "text": [
      "the sum is 37\n",
      "0\n",
      "1\n",
      "3\n",
      "6\n",
      "No items left.\n"
     ]
    }
   ],
   "source": [
    "# for Statement\n",
    "numbers=[6, 5, 3, 8, 4, 2, 5, 4]\n",
    "sum=0\n",
    "for val in numbers:\n",
    "    sum =sum+val \n",
    "print(\"the sum is\" ,sum)\n",
    "\n",
    "numbers=[0,1,3,6]\n",
    "for i in numbers:\n",
    "    print(i)\n",
    "else:\n",
    "    print(\"No items left.\")"
   ]
  },
  {
   "cell_type": "code",
   "execution_count": 7,
   "id": "ccdec00e",
   "metadata": {},
   "outputs": [
    {
     "ename": "IndentationError",
     "evalue": "expected an indented block after 'while' statement on line 11 (271585283.py, line 12)",
     "output_type": "error",
     "traceback": [
      "\u001b[1;36m  Cell \u001b[1;32mIn[7], line 12\u001b[1;36m\u001b[0m\n\u001b[1;33m    add=add+i\u001b[0m\n\u001b[1;37m    ^\u001b[0m\n\u001b[1;31mIndentationError\u001b[0m\u001b[1;31m:\u001b[0m expected an indented block after 'while' statement on line 11\n"
     ]
    }
   ],
   "source": [
    "\n"
   ]
  },
  {
   "cell_type": "code",
   "execution_count": null,
   "id": "6fd4bcfd",
   "metadata": {},
   "outputs": [],
   "source": []
  }
 ],
 "metadata": {
  "kernelspec": {
   "display_name": "Python 3 (ipykernel)",
   "language": "python",
   "name": "python3"
  },
  "language_info": {
   "codemirror_mode": {
    "name": "ipython",
    "version": 3
   },
   "file_extension": ".py",
   "mimetype": "text/x-python",
   "name": "python",
   "nbconvert_exporter": "python",
   "pygments_lexer": "ipython3",
   "version": "3.11.5"
  }
 },
 "nbformat": 4,
 "nbformat_minor": 5
}
