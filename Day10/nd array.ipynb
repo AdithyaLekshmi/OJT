{
 "cells": [
  {
   "cell_type": "code",
   "execution_count": null,
   "id": "eaa64893",
   "metadata": {},
   "outputs": [],
   "source": [
    "****nd array****"
   ]
  },
  {
   "cell_type": "code",
   "execution_count": 1,
   "id": "610d606e",
   "metadata": {},
   "outputs": [
    {
     "name": "stdout",
     "output_type": "stream",
     "text": [
      "[[1 2 3]\n",
      " [4 5 6]]\n"
     ]
    }
   ],
   "source": [
    "# Step 1: Import the NumPy library\n",
    "import numpy as np\n",
    "\n",
    "# Step 2: Create the ndarray\n",
    "# Example: Creating a 2x3 ndarray with values from 1 to 6\n",
    "array = np.array([[1, 2, 3], [4, 5, 6]])\n",
    "\n",
    "# Display the array\n",
    "print(array)"
   ]
  }
 ],
 "metadata": {
  "kernelspec": {
   "display_name": "Python 3 (ipykernel)",
   "language": "python",
   "name": "python3"
  },
  "language_info": {
   "codemirror_mode": {
    "name": "ipython",
    "version": 3
   },
   "file_extension": ".py",
   "mimetype": "text/x-python",
   "name": "python",
   "nbconvert_exporter": "python",
   "pygments_lexer": "ipython3",
   "version": "3.11.5"
  }
 },
 "nbformat": 4,
 "nbformat_minor": 5
}
